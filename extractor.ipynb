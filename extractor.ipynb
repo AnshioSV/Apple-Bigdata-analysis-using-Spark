{
 "cells": [
  {
   "cell_type": "code",
   "execution_count": 0,
   "metadata": {
    "application/vnd.databricks.v1+cell": {
     "cellMetadata": {
      "byteLimit": 2048000,
      "rowLimit": 10000
     },
     "inputWidgets": {},
     "nuid": "44fca629-6bf0-423e-a2ae-b158768e0e5b",
     "showTitle": false,
     "title": ""
    }
   },
   "outputs": [],
   "source": [
    "class Extractor:\n",
    "\n",
    "    \"\"\"abstractclass\"\"\"\n",
    "\n",
    "    def __init__(self):\n",
    "        pass\n",
    "    def extract(self):\n",
    "        pass\n",
    "\n",
    "class AirpodsAfterIphoneExtractor(Extractor):\n",
    "\n",
    "    def extract(self):\n",
    "        #implement steps for extracting data\n",
    "        transaction_df=get_datasource(\n",
    "            data_type=\"csv\",\n",
    "            file_path=\"dbfs:/FileStore/tables/Transaction_Updated.csv\"\n",
    "        ).get_dataframe()\n",
    "\n",
    "        transaction_df.orderBy(\"customer_id\",\"transaction_date\").show()\n",
    "\n",
    "        \n",
    "        customerInputDF = get_datasource(\n",
    "            data_type=\"Delta\",\n",
    "            file_path=\"default.customer_updated_csv\"\n",
    "        ).get_dataframe()\n",
    "\n",
    "        inputDF = {\n",
    "            \"transactionDF\":transaction_df,\n",
    "            \"customerInputDF\":customerInputDF\n",
    "        }\n",
    "\n",
    "        return inputDF"
   ]
  }
 ],
 "metadata": {
  "application/vnd.databricks.v1+notebook": {
   "dashboards": [],
   "environmentMetadata": null,
   "language": "python",
   "notebookMetadata": {
    "pythonIndentUnit": 4
   },
   "notebookName": "extractor",
   "widgets": {}
  }
 },
 "nbformat": 4,
 "nbformat_minor": 0
}
