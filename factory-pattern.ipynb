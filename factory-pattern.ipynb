{
 "cells": [
  {
   "cell_type": "code",
   "execution_count": 0,
   "metadata": {
    "application/vnd.databricks.v1+cell": {
     "cellMetadata": {
      "byteLimit": 2048000,
      "rowLimit": 10000
     },
     "inputWidgets": {},
     "nuid": "da3a2de4-f52e-4476-86bd-a302afd50bbb",
     "showTitle": false,
     "title": ""
    }
   },
   "outputs": [],
   "source": [
    "class DataSource:\n",
    "    def __init__(self,path):\n",
    "        self.path=path\n",
    "\n",
    "    def get_dataframe(self):\n",
    "        raise ValueError(\"Not Implemented\")\n",
    "\n",
    "class CSVDataSource(DataSource):\n",
    "    def get_dataframe(self):\n",
    "        return (\n",
    "                spark.\n",
    "                read.\n",
    "                format(\"csv\").\n",
    "                option(\"header\",True).\n",
    "                load(self.path)\n",
    "            )\n",
    "\n",
    "class ParquetDataSource(DataSource):\n",
    "    def get_dataframe(self):\n",
    "            return (\n",
    "                spark.\n",
    "                read.\n",
    "                format(\"Parquet\").\n",
    "                load(self.path)\n",
    "            )\n",
    "\n",
    "class DeltaDataSource(DataSource):\n",
    "    def get_dataframe(self):\n",
    "            table_name = self.path\n",
    "            return (\n",
    "                spark.\n",
    "                read.\n",
    "                table(table_name)\n",
    "            )\n",
    "def get_datasource(data_type,file_path):\n",
    "        if data_type==\"csv\":\n",
    "            return CSVDataSource(file_path)\n",
    "        elif data_type==\"Parquet\":\n",
    "            return ParquetDataSource(file_path)\n",
    "        elif data_type==\"Delta\":\n",
    "            return DeltaDataSource(file_path)\n",
    "        else:\n",
    "            raise ValueError(f\"not implemented for datatype:{data_type}\")\n"
   ]
  }
 ],
 "metadata": {
  "application/vnd.databricks.v1+notebook": {
   "dashboards": [],
   "environmentMetadata": null,
   "language": "python",
   "notebookMetadata": {
    "pythonIndentUnit": 4
   },
   "notebookName": "factory-pattern",
   "widgets": {}
  }
 },
 "nbformat": 4,
 "nbformat_minor": 0
}
