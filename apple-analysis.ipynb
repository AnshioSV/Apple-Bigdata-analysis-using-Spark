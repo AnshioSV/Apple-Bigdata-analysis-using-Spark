{
 "cells": [
  {
   "cell_type": "code",
   "execution_count": 0,
   "metadata": {
    "application/vnd.databricks.v1+cell": {
     "cellMetadata": {
      "byteLimit": 2048000,
      "rowLimit": 10000
     },
     "inputWidgets": {},
     "nuid": "9f069037-182c-4949-a32b-ecc210b5094d",
     "showTitle": false,
     "title": ""
    }
   },
   "outputs": [],
   "source": [
    "# Replace with your actual AWS Access Key and Secret Key\n",
    "spark.conf.set(\"fs.s3a.access.key\", \"\")\n",
    "spark.conf.set(\"fs.s3a.secret.key\", \"\")\n",
    "spark.conf.set(\"fs.s3a.endpoint\", \"s3.amazonaws.com\")  # Standard AWS endpoint for S3\n"
   ]
  },
  {
   "cell_type": "code",
   "execution_count": 0,
   "metadata": {
    "application/vnd.databricks.v1+cell": {
     "cellMetadata": {
      "byteLimit": 2048000,
      "rowLimit": 10000
     },
     "inputWidgets": {},
     "nuid": "97c53f82-e90d-4dbb-b81f-9f5fb707a6a8",
     "showTitle": false,
     "title": ""
    }
   },
   "outputs": [],
   "source": [
    "%run \"./factory-pattern\" \n"
   ]
  },
  {
   "cell_type": "code",
   "execution_count": 0,
   "metadata": {
    "application/vnd.databricks.v1+cell": {
     "cellMetadata": {
      "byteLimit": 2048000,
      "rowLimit": 10000
     },
     "inputWidgets": {},
     "nuid": "cf91cffe-2b75-414f-bc54-808b9644db84",
     "showTitle": false,
     "title": ""
    }
   },
   "outputs": [],
   "source": [
    "%run \"./transform\""
   ]
  },
  {
   "cell_type": "code",
   "execution_count": 0,
   "metadata": {
    "application/vnd.databricks.v1+cell": {
     "cellMetadata": {
      "byteLimit": 2048000,
      "rowLimit": 10000
     },
     "inputWidgets": {},
     "nuid": "47f0626e-2342-44ec-b3ff-dda2b26b170e",
     "showTitle": false,
     "title": ""
    }
   },
   "outputs": [],
   "source": [
    "%run \"./extractor\""
   ]
  },
  {
   "cell_type": "code",
   "execution_count": 0,
   "metadata": {
    "application/vnd.databricks.v1+cell": {
     "cellMetadata": {
      "byteLimit": 2048000,
      "rowLimit": 10000
     },
     "inputWidgets": {},
     "nuid": "713e61cf-96e9-4fbb-a79e-fd557f8b2e84",
     "showTitle": false,
     "title": ""
    }
   },
   "outputs": [],
   "source": [
    "%run \"./loader\""
   ]
  },
  {
   "cell_type": "code",
   "execution_count": 0,
   "metadata": {
    "application/vnd.databricks.v1+cell": {
     "cellMetadata": {
      "byteLimit": 2048000,
      "rowLimit": 10000
     },
     "inputWidgets": {},
     "nuid": "a760a12f-a99a-4ac5-9e93-21cd95f85c60",
     "showTitle": false,
     "title": ""
    }
   },
   "outputs": [
    {
     "output_type": "stream",
     "name": "stdout",
     "output_type": "stream",
     "text": [
      "+--------------+-----------+------------+----------------+\n|transaction_id|customer_id|product_name|transaction_date|\n+--------------+-----------+------------+----------------+\n|            11|        105|      iPhone|      2022-02-01|\n|            14|        105|     AirPods|      2022-02-04|\n|            18|        105|     MacBook|      2022-02-08|\n|            12|        106|      iPhone|      2022-02-02|\n|            16|        106|     MacBook|      2022-02-06|\n|            20|        106|     AirPods|      2022-02-10|\n|            13|        107|     AirPods|      2022-02-03|\n|            17|        107|      iPhone|      2022-02-07|\n|            15|        108|      iPhone|      2022-02-05|\n|            19|        108|     AirPods|      2022-02-09|\n+--------------+-----------+------------+----------------+\n\ntransaction inputDF in transform\nairpods after iphone\nnew new final transformed DF\nprinting first transform: DataFrame[customer_id: string, customer_name: string, location: string]\n"
     ]
    }
   ],
   "source": [
    "class FirstWorkFlow:\n",
    "    def __init__(self):\n",
    "        pass\n",
    "    def runner(self):\n",
    "        #step 1 : extracting required data from diff source\n",
    "        input_df = AirpodsAfterIphoneExtractor().extract()\n",
    "\n",
    "        #Step 2 : Transformation 1 : customer bought airpod after iphone\n",
    "        firstTransform = FirstTransform().transform(input_df)\n",
    "        print(\"printing first transform:\",firstTransform)\n",
    "        \n",
    "\n",
    "        #step3: load data to sink\n",
    "        AirpodsAfterIphoneLoader(firstTransform).sink()\n",
    "\n",
    "FirstworkFlow = FirstWorkFlow().runner()"
   ]
  },
  {
   "cell_type": "code",
   "execution_count": 0,
   "metadata": {
    "application/vnd.databricks.v1+cell": {
     "cellMetadata": {
      "byteLimit": 2048000,
      "rowLimit": 10000
     },
     "inputWidgets": {},
     "nuid": "eada12a9-aeed-41b7-b196-ec20211d6d61",
     "showTitle": false,
     "title": ""
    }
   },
   "outputs": [
    {
     "output_type": "stream",
     "name": "stdout",
     "output_type": "stream",
     "text": [
      "+--------------+-----------+------------+----------------+\n|transaction_id|customer_id|product_name|transaction_date|\n+--------------+-----------+------------+----------------+\n|            11|        105|      iPhone|      2022-02-01|\n|            14|        105|     AirPods|      2022-02-04|\n|            18|        105|     MacBook|      2022-02-08|\n|            12|        106|      iPhone|      2022-02-02|\n|            16|        106|     MacBook|      2022-02-06|\n|            20|        106|     AirPods|      2022-02-10|\n|            13|        107|     AirPods|      2022-02-03|\n|            17|        107|      iPhone|      2022-02-07|\n|            15|        108|      iPhone|      2022-02-05|\n|            19|        108|     AirPods|      2022-02-09|\n+--------------+-----------+------------+----------------+\n\ntransaction inputDF in transform\nGrouped DF\n+-----------+--------------------+\n|customer_id|            products|\n+-----------+--------------------+\n|        107|   [AirPods, iPhone]|\n|        108|   [AirPods, iPhone]|\n|        106|[AirPods, iPhone,...|\n|        105|[AirPods, iPhone,...|\n+-----------+--------------------+\n\nOnly Airpods and iPhone\n+-----------+-----------------+\n|customer_id|         products|\n+-----------+-----------------+\n|        107|[AirPods, iPhone]|\n|        108|[AirPods, iPhone]|\n+-----------+-----------------+\n\n+-----------+-------------+----------+--------+\n|customer_id|customer_name| join_date|location|\n+-----------+-------------+----------+--------+\n|        105|          Eva|2022-01-01|    Ohio|\n|        106|        Frank|2022-02-01|  Nevada|\n|        107|        Grace|2022-03-01|Colorado|\n|        108|        Henry|2022-04-01|    Utah|\n+-----------+-------------+----------+--------+\n\nJOINED DF\n+-----------+-------------+----------+--------+-----------------+\n|customer_id|customer_name| join_date|location|         products|\n+-----------+-------------+----------+--------+-----------------+\n|        107|        Grace|2022-03-01|Colorado|[AirPods, iPhone]|\n|        108|        Henry|2022-04-01|    Utah|[AirPods, iPhone]|\n+-----------+-------------+----------+--------+-----------------+\n\nprinting Second transform: DataFrame[customer_id: string, customer_name: string, location: string]\n"
     ]
    }
   ],
   "source": [
    "class SecondWorkFlow:\n",
    "    def __init__(self):\n",
    "        pass\n",
    "    def runner(self):\n",
    "        #step 1 : extracting required data from diff source\n",
    "        input_df = AirpodsAfterIphoneExtractor().extract()\n",
    "\n",
    "        #Step 2 : Transformation 1 : customer bought airpod after iphone\n",
    "        onlyAirpodsAndIphoneDF = OnlyAirpodsAndIphone().transform(input_df)\n",
    "        print(\"printing Second transform:\",onlyAirpodsAndIphoneDF)\n",
    "        \n",
    "\n",
    "        #step3: load data to sink\n",
    "        #AirpodsAfterIphoneLoader(firstTransform).sink()\n",
    "\n",
    "SecondworkFlow = SecondWorkFlow().runner()"
   ]
  },
  {
   "cell_type": "code",
   "execution_count": 0,
   "metadata": {
    "application/vnd.databricks.v1+cell": {
     "cellMetadata": {
      "byteLimit": 2048000,
      "rowLimit": 10000
     },
     "inputWidgets": {},
     "nuid": "56e4f322-8fc8-4eef-b254-6ad9164eb6a7",
     "showTitle": false,
     "title": ""
    }
   },
   "outputs": [
    {
     "output_type": "stream",
     "name": "stdout",
     "output_type": "stream",
     "text": [
      "+--------------+-----------+------------+----------------+\n|transaction_id|customer_id|product_name|transaction_date|\n+--------------+-----------+------------+----------------+\n|            11|        105|      iPhone|      2022-02-01|\n|            12|        106|      iPhone|      2022-02-02|\n|            13|        107|     AirPods|      2022-02-03|\n|            14|        105|     AirPods|      2022-02-04|\n|            15|        108|      iPhone|      2022-02-05|\n|            16|        106|     MacBook|      2022-02-06|\n|            17|        107|      iPhone|      2022-02-07|\n|            18|        105|     MacBook|      2022-02-08|\n|            19|        108|     AirPods|      2022-02-09|\n|            20|        106|     AirPods|      2022-02-10|\n+--------------+-----------+------------+----------------+\n\n"
     ]
    }
   ],
   "source": [
    "from pyspark.sql import SparkSession\n",
    "spark = SparkSession.builder.appName(\"Anshio BigData Project\").getOrCreate()\n",
    "input_df = spark.read.format(\"csv\").option(\"header\",\"True\").load(\"dbfs:/FileStore/tables/Transaction_Updated.csv\")\n",
    "input_df.show()"
   ]
  },
  {
   "cell_type": "code",
   "execution_count": 0,
   "metadata": {
    "application/vnd.databricks.v1+cell": {
     "cellMetadata": {
      "byteLimit": 2048000,
      "rowLimit": 10000
     },
     "inputWidgets": {},
     "nuid": "f1f89140-45de-4f28-b271-9d026e07d47a",
     "showTitle": false,
     "title": ""
    }
   },
   "outputs": [],
   "source": []
  }
 ],
 "metadata": {
  "application/vnd.databricks.v1+notebook": {
   "dashboards": [],
   "environmentMetadata": null,
   "language": "python",
   "notebookMetadata": {
    "pythonIndentUnit": 4
   },
   "notebookName": "apple-analysis",
   "widgets": {}
  }
 },
 "nbformat": 4,
 "nbformat_minor": 0
}
