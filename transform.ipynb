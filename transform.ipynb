{
 "cells": [
  {
   "cell_type": "code",
   "execution_count": 0,
   "metadata": {
    "application/vnd.databricks.v1+cell": {
     "cellMetadata": {
      "byteLimit": 2048000,
      "rowLimit": 10000
     },
     "inputWidgets": {},
     "nuid": "301f7e39-409b-404b-85da-715b8b3d7cf4",
     "showTitle": false,
     "title": ""
    }
   },
   "outputs": [],
   "source": [
    "from pyspark.sql.window import Window\n",
    "from pyspark.sql.functions import lead, col, broadcast, collect_set, size, array_contains\n",
    "\n",
    "class Transformer:\n",
    "    def __init__(self):\n",
    "        pass\n",
    "    def transform(self,inputDF):\n",
    "        pass\n",
    "class FirstTransform(Transformer):\n",
    "    def transform(self,inputDF):\n",
    "        #cusomers who bought airpods after iphone\n",
    "        transactioninputDF = inputDF.get(\"transactionDF\")\n",
    "        print(\"transaction inputDF in transform\")\n",
    "        #transactioninputDF.show()\n",
    "\n",
    "        windowSpec = Window.partitionBy(\"customer_id\").orderBy(\"transaction_date\")\n",
    "\n",
    "\n",
    "        transformeddf = transactioninputDF.withColumn(\"next_prod_name\",lead(\"product_name\").over(windowSpec) )\n",
    "        print(\"airpods after iphone\")\n",
    "        filteredDF = transformeddf.filter(\n",
    "            (col(\"product_name\") == 'iPhone') & (col(\"next_prod_name\") == 'AirPods')\n",
    "        )\n",
    "        \n",
    "\n",
    "        customertable = inputDF.get(\"customerInputDF\")\n",
    "        \n",
    "        joinDF = customertable.join(broadcast(filteredDF),\"customer_id\")\n",
    "        \n",
    "        print(\"new new final transformed DF\")\n",
    "        finalDF= joinDF.select(\n",
    "            \"customer_id\",\n",
    "            \"customer_name\",\n",
    "            \"location\")\n",
    "        return finalDF\n",
    "class OnlyAirpodsAndIphone(Transformer):\n",
    "\n",
    "    def transform(self, inputDF):\n",
    "        \"\"\"\n",
    "        Customer who have bought only iPhone and Airpods nothing else\n",
    "        \"\"\"\n",
    "\n",
    "        transactioninputDF = inputDF.get(\"transactionDF\")\n",
    "        print(\"transaction inputDF in transform\")\n",
    "\n",
    "        groupedDF = transactioninputDF.groupBy(\"customer_id\").agg(\n",
    "            collect_set(\"product_name\").alias(\"products\")\n",
    "        )\n",
    "\n",
    "        print(\"Grouped DF\")\n",
    "        groupedDF.show()\n",
    "\n",
    "        filteredDF = groupedDF.filter(\n",
    "            (array_contains(col(\"products\"), \"iPhone\")) &\n",
    "            (array_contains(col(\"products\"), \"AirPods\")) & \n",
    "            (size(col(\"products\")) == 2)\n",
    "        )\n",
    "        \n",
    "        print(\"Only Airpods and iPhone\")\n",
    "        filteredDF.show()\n",
    "\n",
    "        customerInputDF = inputDF.get(\"customerInputDF\")\n",
    "\n",
    "        customerInputDF.show()\n",
    "\n",
    "        joinDF =  customerInputDF.join(\n",
    "           broadcast(filteredDF),\n",
    "            \"customer_id\"\n",
    "        )\n",
    "\n",
    "        print(\"JOINED DF\")\n",
    "        joinDF.show()\n",
    "\n",
    "        return joinDF.select(\n",
    "            \"customer_id\",\n",
    "            \"customer_name\",\n",
    "            \"location\"\n",
    "        )\n",
    "\n",
    "       \n",
    "        "
   ]
  },
  {
   "cell_type": "code",
   "execution_count": 0,
   "metadata": {
    "application/vnd.databricks.v1+cell": {
     "cellMetadata": {
      "byteLimit": 2048000,
      "rowLimit": 10000
     },
     "inputWidgets": {},
     "nuid": "e13b67a8-551d-4694-85fd-9a28d8f2b046",
     "showTitle": false,
     "title": ""
    }
   },
   "outputs": [],
   "source": []
  }
 ],
 "metadata": {
  "application/vnd.databricks.v1+notebook": {
   "dashboards": [],
   "environmentMetadata": null,
   "language": "python",
   "notebookMetadata": {
    "pythonIndentUnit": 4
   },
   "notebookName": "transform",
   "widgets": {}
  }
 },
 "nbformat": 4,
 "nbformat_minor": 0
}
